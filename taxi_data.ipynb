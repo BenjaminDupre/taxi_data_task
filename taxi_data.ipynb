{
 "cells": [
  {
   "cell_type": "markdown",
   "metadata": {},
   "source": [
    "# **Taxi 🚕 Data** 📊\n",
    "## Loading CSV file. \n",
    "\n"
   ]
  },
  {
   "cell_type": "code",
   "execution_count": 40,
   "metadata": {},
   "outputs": [
    {
     "name": "stdout",
     "output_type": "stream",
     "text": [
      "Variable: VendorID, Data Type: int64\n",
      "Variable: tpep_pickup_datetime, Data Type: datetime64[ns]\n",
      "Variable: tpep_dropoff_datetime, Data Type: datetime64[ns]\n",
      "Variable: passenger_count, Data Type: float64\n",
      "Variable: trip_distance, Data Type: float64\n",
      "Variable: RatecodeID, Data Type: float64\n",
      "Variable: store_and_fwd_flag, Data Type: object\n",
      "Variable: PULocationID, Data Type: int64\n",
      "Variable: DOLocationID, Data Type: int64\n",
      "Variable: payment_type, Data Type: int64\n",
      "Variable: fare_amount, Data Type: float64\n",
      "Variable: extra, Data Type: float64\n",
      "Variable: mta_tax, Data Type: float64\n",
      "Variable: tip_amount, Data Type: float64\n",
      "Variable: tolls_amount, Data Type: float64\n",
      "Variable: improvement_surcharge, Data Type: float64\n",
      "Variable: total_amount, Data Type: float64\n",
      "Variable: congestion_surcharge, Data Type: float64\n",
      "Variable: airport_fee, Data Type: float64\n"
     ]
    },
    {
     "data": {
      "text/html": [
       "<div>\n",
       "<style scoped>\n",
       "    .dataframe tbody tr th:only-of-type {\n",
       "        vertical-align: middle;\n",
       "    }\n",
       "\n",
       "    .dataframe tbody tr th {\n",
       "        vertical-align: top;\n",
       "    }\n",
       "\n",
       "    .dataframe thead th {\n",
       "        text-align: right;\n",
       "    }\n",
       "</style>\n",
       "<table border=\"1\" class=\"dataframe\">\n",
       "  <thead>\n",
       "    <tr style=\"text-align: right;\">\n",
       "      <th></th>\n",
       "      <th>VendorID</th>\n",
       "      <th>tpep_pickup_datetime</th>\n",
       "      <th>tpep_dropoff_datetime</th>\n",
       "      <th>passenger_count</th>\n",
       "      <th>trip_distance</th>\n",
       "      <th>RatecodeID</th>\n",
       "      <th>store_and_fwd_flag</th>\n",
       "      <th>PULocationID</th>\n",
       "      <th>DOLocationID</th>\n",
       "      <th>payment_type</th>\n",
       "      <th>fare_amount</th>\n",
       "      <th>extra</th>\n",
       "      <th>mta_tax</th>\n",
       "      <th>tip_amount</th>\n",
       "      <th>tolls_amount</th>\n",
       "      <th>improvement_surcharge</th>\n",
       "      <th>total_amount</th>\n",
       "      <th>congestion_surcharge</th>\n",
       "      <th>airport_fee</th>\n",
       "    </tr>\n",
       "  </thead>\n",
       "  <tbody>\n",
       "    <tr>\n",
       "      <th>0</th>\n",
       "      <td>2</td>\n",
       "      <td>2018-01-01 12:02:01</td>\n",
       "      <td>2018-01-01 12:04:05</td>\n",
       "      <td>1.0</td>\n",
       "      <td>0.53</td>\n",
       "      <td>1.0</td>\n",
       "      <td>N</td>\n",
       "      <td>142</td>\n",
       "      <td>163</td>\n",
       "      <td>1</td>\n",
       "      <td>3.5</td>\n",
       "      <td>0.0</td>\n",
       "      <td>0.5</td>\n",
       "      <td>1.29</td>\n",
       "      <td>0.0</td>\n",
       "      <td>0.3</td>\n",
       "      <td>5.59</td>\n",
       "      <td>NaN</td>\n",
       "      <td>NaN</td>\n",
       "    </tr>\n",
       "    <tr>\n",
       "      <th>1</th>\n",
       "      <td>2</td>\n",
       "      <td>2018-01-01 12:26:48</td>\n",
       "      <td>2018-01-01 12:31:29</td>\n",
       "      <td>1.0</td>\n",
       "      <td>1.05</td>\n",
       "      <td>1.0</td>\n",
       "      <td>N</td>\n",
       "      <td>140</td>\n",
       "      <td>236</td>\n",
       "      <td>1</td>\n",
       "      <td>6.0</td>\n",
       "      <td>0.0</td>\n",
       "      <td>0.5</td>\n",
       "      <td>1.02</td>\n",
       "      <td>0.0</td>\n",
       "      <td>0.3</td>\n",
       "      <td>7.82</td>\n",
       "      <td>NaN</td>\n",
       "      <td>NaN</td>\n",
       "    </tr>\n",
       "    <tr>\n",
       "      <th>2</th>\n",
       "      <td>2</td>\n",
       "      <td>2018-01-01 01:28:34</td>\n",
       "      <td>2018-01-01 01:39:38</td>\n",
       "      <td>4.0</td>\n",
       "      <td>1.83</td>\n",
       "      <td>1.0</td>\n",
       "      <td>N</td>\n",
       "      <td>211</td>\n",
       "      <td>158</td>\n",
       "      <td>1</td>\n",
       "      <td>9.5</td>\n",
       "      <td>0.5</td>\n",
       "      <td>0.5</td>\n",
       "      <td>1.62</td>\n",
       "      <td>0.0</td>\n",
       "      <td>0.3</td>\n",
       "      <td>12.42</td>\n",
       "      <td>NaN</td>\n",
       "      <td>NaN</td>\n",
       "    </tr>\n",
       "    <tr>\n",
       "      <th>3</th>\n",
       "      <td>1</td>\n",
       "      <td>2018-01-01 08:51:59</td>\n",
       "      <td>2018-01-01 09:01:45</td>\n",
       "      <td>1.0</td>\n",
       "      <td>2.30</td>\n",
       "      <td>1.0</td>\n",
       "      <td>N</td>\n",
       "      <td>249</td>\n",
       "      <td>4</td>\n",
       "      <td>2</td>\n",
       "      <td>10.0</td>\n",
       "      <td>0.0</td>\n",
       "      <td>0.5</td>\n",
       "      <td>0.00</td>\n",
       "      <td>0.0</td>\n",
       "      <td>0.3</td>\n",
       "      <td>10.80</td>\n",
       "      <td>NaN</td>\n",
       "      <td>NaN</td>\n",
       "    </tr>\n",
       "    <tr>\n",
       "      <th>4</th>\n",
       "      <td>2</td>\n",
       "      <td>2018-01-01 01:00:19</td>\n",
       "      <td>2018-01-01 01:14:16</td>\n",
       "      <td>1.0</td>\n",
       "      <td>3.06</td>\n",
       "      <td>1.0</td>\n",
       "      <td>N</td>\n",
       "      <td>186</td>\n",
       "      <td>142</td>\n",
       "      <td>1</td>\n",
       "      <td>12.5</td>\n",
       "      <td>0.5</td>\n",
       "      <td>0.5</td>\n",
       "      <td>1.00</td>\n",
       "      <td>0.0</td>\n",
       "      <td>0.3</td>\n",
       "      <td>14.80</td>\n",
       "      <td>NaN</td>\n",
       "      <td>NaN</td>\n",
       "    </tr>\n",
       "  </tbody>\n",
       "</table>\n",
       "</div>"
      ],
      "text/plain": [
       "   VendorID tpep_pickup_datetime tpep_dropoff_datetime  passenger_count  \\\n",
       "0         2  2018-01-01 12:02:01   2018-01-01 12:04:05              1.0   \n",
       "1         2  2018-01-01 12:26:48   2018-01-01 12:31:29              1.0   \n",
       "2         2  2018-01-01 01:28:34   2018-01-01 01:39:38              4.0   \n",
       "3         1  2018-01-01 08:51:59   2018-01-01 09:01:45              1.0   \n",
       "4         2  2018-01-01 01:00:19   2018-01-01 01:14:16              1.0   \n",
       "\n",
       "   trip_distance  RatecodeID store_and_fwd_flag  PULocationID  DOLocationID  \\\n",
       "0           0.53         1.0                  N           142           163   \n",
       "1           1.05         1.0                  N           140           236   \n",
       "2           1.83         1.0                  N           211           158   \n",
       "3           2.30         1.0                  N           249             4   \n",
       "4           3.06         1.0                  N           186           142   \n",
       "\n",
       "   payment_type  fare_amount  extra  mta_tax  tip_amount  tolls_amount  \\\n",
       "0             1          3.5    0.0      0.5        1.29           0.0   \n",
       "1             1          6.0    0.0      0.5        1.02           0.0   \n",
       "2             1          9.5    0.5      0.5        1.62           0.0   \n",
       "3             2         10.0    0.0      0.5        0.00           0.0   \n",
       "4             1         12.5    0.5      0.5        1.00           0.0   \n",
       "\n",
       "   improvement_surcharge  total_amount  congestion_surcharge  airport_fee  \n",
       "0                    0.3          5.59                   NaN          NaN  \n",
       "1                    0.3          7.82                   NaN          NaN  \n",
       "2                    0.3         12.42                   NaN          NaN  \n",
       "3                    0.3         10.80                   NaN          NaN  \n",
       "4                    0.3         14.80                   NaN          NaN  "
      ]
     },
     "execution_count": 40,
     "metadata": {},
     "output_type": "execute_result"
    }
   ],
   "source": [
    "import zipfile\n",
    "import pandas as pd\n",
    "\n",
    "# Define the ZIP file name\n",
    "zip_file_name = 'Yellow_Taxi_Assignment.csv.zip'\n",
    "\n",
    "# Extract the ZIP file\n",
    "with zipfile.ZipFile(zip_file_name, 'r') as zip_file:\n",
    "    # Assuming there is only one CSV file in the ZIP archive\n",
    "    csv_file_name = zip_file.namelist()[0]\n",
    "    zip_file.extract(csv_file_name)\n",
    "\n",
    "# Define the date columns that you want to parse as datetime objects\n",
    "date_columns = ['tpep_pickup_datetime', 'tpep_dropoff_datetime']\n",
    "\n",
    "# Read the extracted CSV file using pandas with date parsing\n",
    "df_ny = pd.read_csv(csv_file_name, parse_dates=date_columns)\n",
    "\n",
    "# Now we can work with the 'df' DataFrame containing the CSV data\n",
    "# Checking the first few rows:\n",
    "# Assuming you have a DataFrame named df_ny\n",
    "variable_types = df_ny.dtypes\n",
    "\n",
    "# Now, variable_types is a Series that contains variable names as the index and their data types as values.\n",
    "# You can print it or iterate over it to see the variable names and their types.\n",
    "for variable, data_type in variable_types.items():\n",
    "    print(f\"Variable: {variable}, Data Type: {data_type}\")\n",
    "df_ny.head()\n"
   ]
  },
  {
   "cell_type": "markdown",
   "metadata": {},
   "source": [
    "## Data Cleaning & Imputation\n",
    "1.- Im going to check for missing values."
   ]
  },
  {
   "cell_type": "code",
   "execution_count": 41,
   "metadata": {},
   "outputs": [
    {
     "name": "stdout",
     "output_type": "stream",
     "text": [
      "The number of rows is 304978\n"
     ]
    },
    {
     "data": {
      "text/plain": [
       "VendorID                      0\n",
       "tpep_pickup_datetime          0\n",
       "tpep_dropoff_datetime         0\n",
       "passenger_count            9513\n",
       "trip_distance                 0\n",
       "RatecodeID                 9513\n",
       "store_and_fwd_flag         9513\n",
       "PULocationID                  0\n",
       "DOLocationID                  0\n",
       "payment_type                  0\n",
       "fare_amount                   0\n",
       "extra                         0\n",
       "mta_tax                       0\n",
       "tip_amount                    0\n",
       "tolls_amount                  0\n",
       "improvement_surcharge         0\n",
       "total_amount                  0\n",
       "congestion_surcharge      72632\n",
       "airport_fee              198761\n",
       "dtype: int64"
      ]
     },
     "execution_count": 41,
     "metadata": {},
     "output_type": "execute_result"
    }
   ],
   "source": [
    "print(f\"The number of rows is {df_ny.shape[0]}\")\n",
    "# The following have null rows \n",
    "df_ny.isnull().sum()"
   ]
  },
  {
   "cell_type": "markdown",
   "metadata": {},
   "source": [
    "2.- **To remove the nan values from the following fields:**\n",
    "| Field                | Count |\n",
    "|----------------------|-------|\n",
    "| passenger_count      | 9513  |\n",
    "| RatecodeID           | 9513  |\n",
    "| store_and_fwd_flag   | 9513  |\n",
    "\n",
    "**Nulls in columns `airport_fee` and `congestion_surcharge` will be developed differently.** "
   ]
  },
  {
   "cell_type": "code",
   "execution_count": 42,
   "metadata": {},
   "outputs": [
    {
     "name": "stdout",
     "output_type": "stream",
     "text": [
      "The number of rows is 295465\n"
     ]
    }
   ],
   "source": [
    "# Remove rows with missing values in specific columns\n",
    "columns_to_check = ['passenger_count', 'RatecodeID', 'store_and_fwd_flag']\n",
    "# Dropping the specific values\n",
    "df_ny.dropna(subset=columns_to_check, inplace=True)\n",
    "# The new number of rows\n",
    "print(f\"The number of rows is {df_ny.shape[0]}\")\n"
   ]
  },
  {
   "cell_type": "markdown",
   "metadata": {},
   "source": [
    "3.- Now that the rides with no passangers have been remove we will look into columns `airport_fee` and `congestion_surcharge` for cleaning or imputation. "
   ]
  },
  {
   "cell_type": "code",
   "execution_count": 43,
   "metadata": {},
   "outputs": [
    {
     "name": "stdout",
     "output_type": "stream",
     "text": [
      "Unique values in 'airport_fee':\n",
      "[  nan  0.    1.25 -1.25]\n",
      "\n",
      "Unique values in 'congestion_surcharge':\n",
      "[  nan  0.    2.5  -2.5   2.75  0.5 ]\n"
     ]
    }
   ],
   "source": [
    "unique_airport_fees = df_ny['airport_fee'].unique()\n",
    "unique_congestion_surcharges = df_ny['congestion_surcharge'].unique()\n",
    "\n",
    "print(\"Unique values in 'airport_fee':\")\n",
    "print(unique_airport_fees)\n",
    "\n",
    "print(\"\\nUnique values in 'congestion_surcharge':\")\n",
    "print(unique_congestion_surcharges)"
   ]
  },
  {
   "cell_type": "markdown",
   "metadata": {},
   "source": []
  },
  {
   "cell_type": "markdown",
   "metadata": {},
   "source": [
    "-----\n",
    "As the deninition for `airport_fee` is $1.25 for pick up only at LaGuardia and John F. Kennedy Airports. \n",
    "And the definition for `congestion_surcharge` is Congestion_Surcharge Total amount collected in trip for NYS congestion surcharge. \n",
    "I will change the negative values to positive. (???????????????????) and replace the nan for 0. values.\n",
    "when `airport_fee` is negative then multiply for -1. if `airport_fee` is nan remplace by 0. \n",
    "-----"
   ]
  },
  {
   "cell_type": "code",
   "execution_count": 47,
   "metadata": {},
   "outputs": [
    {
     "name": "stdout",
     "output_type": "stream",
     "text": [
      "Unique values in 'airport_fee':\n",
      "[0.   1.25]\n",
      "\n",
      "Unique values in 'congestion_surcharge':\n",
      "[0.   2.5  2.75 0.5 ]\n",
      "The number of rows is 295465\n"
     ]
    }
   ],
   "source": [
    "# First, fill NaN values in 'airport_fee' with 0\n",
    "df_ny['airport_fee'].fillna(0, inplace=True)\n",
    "df_ny['congestion_surcharge'].fillna(0, inplace=True)\n",
    "# Then, replace negative values in 'airport_fee' with their absolute values\n",
    "df_ny['airport_fee'] = df_ny['airport_fee'].apply(lambda x: abs(x) if x < 0 else x)\n",
    "df_ny['congestion_surcharge'] = df_ny['congestion_surcharge'].apply(lambda x: abs(x) if x < 0 else x)\n",
    "\n",
    "unique_airport_fees = df_ny['airport_fee'].unique()\n",
    "unique_congestion_surcharges = df_ny['congestion_surcharge'].unique()\n",
    "\n",
    "print(\"Unique values in 'airport_fee':\")\n",
    "print(unique_airport_fees)\n",
    "\n",
    "print(\"\\nUnique values in 'congestion_surcharge':\")\n",
    "print(unique_congestion_surcharges)\n",
    "\n",
    "print(f\"The number of rows is {df_ny.shape[0]}\")"
   ]
  },
  {
   "cell_type": "markdown",
   "metadata": {},
   "source": [
    "## Looking for outliers. "
   ]
  }
 ],
 "metadata": {
  "kernelspec": {
   "display_name": "Python 3",
   "language": "python",
   "name": "python3"
  },
  "language_info": {
   "codemirror_mode": {
    "name": "ipython",
    "version": 3
   },
   "file_extension": ".py",
   "mimetype": "text/x-python",
   "name": "python",
   "nbconvert_exporter": "python",
   "pygments_lexer": "ipython3",
   "version": "3.10.8"
  },
  "orig_nbformat": 4
 },
 "nbformat": 4,
 "nbformat_minor": 2
}
