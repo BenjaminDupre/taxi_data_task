{
 "cells": [
  {
   "cell_type": "markdown",
   "metadata": {},
   "source": [
    "# **Taxi 🚕 Data** 📊\n",
    "## Loading CSV file. \n",
    "\n"
   ]
  },
  {
   "cell_type": "code",
   "execution_count": 1,
   "metadata": {},
   "outputs": [
    {
     "name": "stdout",
     "output_type": "stream",
     "text": [
      "   VendorID tpep_pickup_datetime tpep_dropoff_datetime  passenger_count  \\\n",
      "0         2  2018-01-01 12:02:01   2018-01-01 12:04:05              1.0   \n",
      "1         2  2018-01-01 12:26:48   2018-01-01 12:31:29              1.0   \n",
      "2         2  2018-01-01 01:28:34   2018-01-01 01:39:38              4.0   \n",
      "3         1  2018-01-01 08:51:59   2018-01-01 09:01:45              1.0   \n",
      "4         2  2018-01-01 01:00:19   2018-01-01 01:14:16              1.0   \n",
      "\n",
      "   trip_distance  RatecodeID store_and_fwd_flag  PULocationID  DOLocationID  \\\n",
      "0           0.53         1.0                  N           142           163   \n",
      "1           1.05         1.0                  N           140           236   \n",
      "2           1.83         1.0                  N           211           158   \n",
      "3           2.30         1.0                  N           249             4   \n",
      "4           3.06         1.0                  N           186           142   \n",
      "\n",
      "   payment_type  fare_amount  extra  mta_tax  tip_amount  tolls_amount  \\\n",
      "0             1          3.5    0.0      0.5        1.29           0.0   \n",
      "1             1          6.0    0.0      0.5        1.02           0.0   \n",
      "2             1          9.5    0.5      0.5        1.62           0.0   \n",
      "3             2         10.0    0.0      0.5        0.00           0.0   \n",
      "4             1         12.5    0.5      0.5        1.00           0.0   \n",
      "\n",
      "   improvement_surcharge  total_amount  congestion_surcharge  airport_fee  \n",
      "0                    0.3          5.59                   NaN          NaN  \n",
      "1                    0.3          7.82                   NaN          NaN  \n",
      "2                    0.3         12.42                   NaN          NaN  \n",
      "3                    0.3         10.80                   NaN          NaN  \n",
      "4                    0.3         14.80                   NaN          NaN  \n"
     ]
    }
   ],
   "source": [
    "import zipfile\n",
    "import pandas as pd\n",
    "\n",
    "# Define the ZIP file name\n",
    "zip_file_name = 'Yellow_Taxi_Assignment.csv.zip'\n",
    "\n",
    "# Extract the ZIP file\n",
    "with zipfile.ZipFile(zip_file_name, 'r') as zip_file:\n",
    "    # Assuming there is only one CSV file in the ZIP archive\n",
    "    csv_file_name = zip_file.namelist()[0]\n",
    "    zip_file.extract(csv_file_name)\n",
    "    \n",
    "# Read the extracted CSV file using pandas\n",
    "df = pd.read_csv(csv_file_name)\n",
    "\n",
    "# Now we can work with the 'df' DataFrame containing the CSV data\n",
    "# Checking the first few rows:\n",
    "print(df.head())\n"
   ]
  },
  {
   "cell_type": "markdown",
   "metadata": {},
   "source": [
    "## Data Cleaning"
   ]
  }
 ],
 "metadata": {
  "kernelspec": {
   "display_name": "Python 3",
   "language": "python",
   "name": "python3"
  },
  "language_info": {
   "codemirror_mode": {
    "name": "ipython",
    "version": 3
   },
   "file_extension": ".py",
   "mimetype": "text/x-python",
   "name": "python",
   "nbconvert_exporter": "python",
   "pygments_lexer": "ipython3",
   "version": "3.10.8"
  },
  "orig_nbformat": 4
 },
 "nbformat": 4,
 "nbformat_minor": 2
}
